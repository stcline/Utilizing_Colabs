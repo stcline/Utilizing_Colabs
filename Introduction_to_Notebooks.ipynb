{
  "nbformat": 4,
  "nbformat_minor": 0,
  "metadata": {
    "colab": {
      "provenance": [],
      "authorship_tag": "ABX9TyNRgpOFCq+MAvof2lTWQZ0M",
      "include_colab_link": true
    },
    "kernelspec": {
      "name": "python3",
      "display_name": "Python 3"
    },
    "language_info": {
      "name": "python"
    }
  },
  "cells": [
    {
      "cell_type": "markdown",
      "metadata": {
        "id": "view-in-github",
        "colab_type": "text"
      },
      "source": [
        "<a href=\"https://colab.research.google.com/github/stcline/Utilizing_Colabs/blob/main/Introduction_to_Notebooks.ipynb\" target=\"_parent\"><img src=\"https://colab.research.google.com/assets/colab-badge.svg\" alt=\"Open In Colab\"/></a>"
      ]
    },
    {
      "cell_type": "markdown",
      "source": [
        "#What are Jupyter Notebooks?\n",
        "\n",
        "![Jupyter Logo](https://upload.wikimedia.org/wikipedia/commons/thumb/3/38/Jupyter_logo.svg/180px-Jupyter_logo.svg.png)\n",
        "\n",
        "\n",
        "Jupyter Notebook (formerly IPython Notebook) is a web-based interactive computational environment for creating notebook documents.  It was first released in 2011.  The format allows a wide range of applications from education to project development to scientific research publication.\n",
        "\n",
        "I guarantee you will use Jupyter Notebooks extensively in your future education."
      ],
      "metadata": {
        "id": "rrLs739obGvq"
      }
    },
    {
      "cell_type": "markdown",
      "source": [
        "#What is Colab?\n",
        "\n",
        "Colab, or \"Colaboratory\", allows you to write and execute Python in your browser, with \n",
        "- Zero configuration required\n",
        "- Access to GPUs free of charge\n",
        "- Easy sharing\n",
        "\n",
        "Whether you're a **student**, a **data scientist** or an **AI researcher**, Colab can make your work easier. Watch [Introduction to Colab](https://www.youtube.com/watch?v=inN8seMm7UI) to learn more, or just get started below!"
      ],
      "metadata": {
        "id": "Y7wSdDDHapQq"
      }
    },
    {
      "cell_type": "markdown",
      "source": [
        "<div class=\"markdown-google-sans\">\n",
        "\n",
        "## **Getting started**\n",
        "</div>\n",
        "\n",
        "The document you are reading is not a static web page, but an interactive environment called a **Colab notebook** that lets you write and execute code.\n",
        "\n",
        "For example, here is a **code cell** with a short Python script that computes a value, stores it in a variable, and prints the result (You can either click the run icon at the left side of the cell or use the shortcut Ctrl+Enter):"
      ],
      "metadata": {
        "id": "u1NweqjTdBqJ"
      }
    },
    {
      "cell_type": "code",
      "source": [
        "seconds_in_minute = 60;\n",
        "minutes_in_hour = 60;\n",
        "hours_in_day = 24;\n",
        "seconds_in_day = seconds_in_minute * minutes_in_hour * hours_in_day;\n",
        "print(seconds_in_day);"
      ],
      "metadata": {
        "id": "nEhBcHwobBTh"
      },
      "execution_count": null,
      "outputs": []
    },
    {
      "cell_type": "markdown",
      "source": [
        "Colab notebooks allow you to combine **executable code** and **rich text** in a single document, along with **images**, **HTML**, **LaTeX** and more. When you create your own Colab notebooks, they are stored in your Google Drive account. You can easily share your Colab notebooks with co-workers or friends, allowing them to comment on your notebooks or even edit them. To learn more, see [Overview of Colab](/notebooks/basic_features_overview.ipynb). To create a new Colab notebook you can use the File menu above, or use the following link: [create a new Colab notebook](http://colab.research.google.com#create=true).\n",
        "\n",
        "Colab notebooks are Jupyter notebooks that are hosted by Colab. To learn more about the Jupyter project, see [jupyter.org](https://www.jupyter.org)."
      ],
      "metadata": {
        "id": "3D6h8AjDfEkb"
      }
    },
    {
      "cell_type": "markdown",
      "source": [
        "You can import libraries as in the example below.  Run the two cells below for an advanced example of this."
      ],
      "metadata": {
        "id": "DWgpqT7QfmP_"
      }
    },
    {
      "cell_type": "code",
      "source": [
        "from matplotlib import rcParams, cycler\n",
        "import matplotlib.pyplot as plt\n",
        "import numpy as np\n",
        "plt.ion()"
      ],
      "metadata": {
        "id": "8ca8AFaAfvpW"
      },
      "execution_count": 10,
      "outputs": []
    },
    {
      "cell_type": "code",
      "source": [
        "# Fixing random state for reproducibility\n",
        "np.random.seed(19680801)\n",
        "\n",
        "N = 10\n",
        "data = [np.logspace(0, 1, 100) + np.random.randn(100) + ii for ii in range(N)]\n",
        "data = np.array(data).T\n",
        "cmap = plt.cm.coolwarm\n",
        "rcParams['axes.prop_cycle'] = cycler(color=cmap(np.linspace(0, 1, N)))\n",
        "\n",
        "\n",
        "from matplotlib.lines import Line2D\n",
        "custom_lines = [Line2D([0], [0], color=cmap(0.), lw=4),\n",
        "                Line2D([0], [0], color=cmap(.5), lw=4),\n",
        "                Line2D([0], [0], color=cmap(1.), lw=4)]\n",
        "\n",
        "fig, ax = plt.subplots(figsize=(10, 5))\n",
        "lines = ax.plot(data)\n",
        "ax.legend(custom_lines, ['Cold', 'Medium', 'Hot']);"
      ],
      "metadata": {
        "id": "0aXrnW8ifztx"
      },
      "execution_count": null,
      "outputs": []
    }
  ]
}